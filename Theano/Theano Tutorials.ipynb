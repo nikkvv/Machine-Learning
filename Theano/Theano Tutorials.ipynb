{
 "cells": [
  {
   "cell_type": "markdown",
   "metadata": {},
   "source": [
    "# Theano Tutorials"
   ]
  },
  {
   "cell_type": "markdown",
   "metadata": {},
   "source": [
    "[1) Adding two numbers](#1_add)\n",
    "\n",
    "[2) Adding two matrices](#2_add_matrices)\n",
    "\n",
    "[3) Logistic Function](#3_logistic)\n",
    "\n",
    "[4) Computing More than one Thing at the Same Time](#4_more_than_one_output)\n",
    "\n",
    "[5) Setting a Default Value for an Argument](#5_default_value)\n",
    "\n",
    "[6) Using Shared Variables](#6_shared_var)\n",
    "\n",
    "[7) Copying functions](#7_copying_functions)\n",
    "\n",
    "[8) Using Random Numbers](#8_random_numbers)"
   ]
  },
  {
   "cell_type": "code",
   "execution_count": 3,
   "metadata": {
    "collapsed": true
   },
   "outputs": [],
   "source": [
    "import theano\n",
    "from theano import tensor as T\n",
    "from theano import pp\n",
    "from theano import shared\n",
    "from theano import function\n",
    "from theano import In\n",
    "from theano.tensor.shared_randomstreams import RandomStreams\n",
    "from theano.sandbox.rng_mrg import MRG_RandomStreams\n",
    "import numpy as np"
   ]
  },
  {
   "cell_type": "markdown",
   "metadata": {},
   "source": [
    "<a name='1_add'></a>\n",
    "## 1) Add two numbers together"
   ]
  },
  {
   "cell_type": "markdown",
   "metadata": {},
   "source": [
    "** Step 1 **\n",
    "- The first step is to define two symbols (Variables) representing the quantities that you want to add.\n",
    "- In Theano, **all symbols must be typed**.\n",
    "- In particular, **T.dscalar** is the type we assign to **“0-dimensional arrays (scalar) of doubles (d)”**\n",
    "- **'dscalar' is a Theano Type. dscalar is not a class**. Therefore, neither x nor y are actually instances of dscalar. They are **instances of TensorVariable**.\n",
    "- x and y are, however, assigned the theano Type dscalar in their type field.\n",
    "- By calling T.dscalar with a string argument, you create a Variable representing a floating-point scalar quantity with the given name. If you provide no argument, the symbol will be unnamed. Names are not required, but they can help debugging."
   ]
  },
  {
   "cell_type": "code",
   "execution_count": 4,
   "metadata": {
    "collapsed": false
   },
   "outputs": [
    {
     "name": "stdout",
     "output_type": "stream",
     "text": [
      "<class 'theano.tensor.var.TensorVariable'>\n",
      "TensorType(float64, scalar)\n"
     ]
    }
   ],
   "source": [
    "x = T.dscalar('x')\n",
    "y = T.dscalar('y')\n",
    "print type(x)\n",
    "print x.type"
   ]
  },
  {
   "cell_type": "markdown",
   "metadata": {},
   "source": [
    "- The following types are available\n",
    "    - **byte**: bscalar, bvector, bmatrix, brow, bcol, btensor3, btensor4, btensor5    \n",
    "    - **16-bit integers**: wscalar, wvector, wmatrix, wrow, wcol, wtensor3, wtensor4, wtensor5    \n",
    "    - **32-bit integers**: iscalar, ivector, imatrix, irow, icol, itensor3, itensor4, itensor5    \n",
    "    - **64-bit integers**: lscalar, lvector, lmatrix, lrow, lcol, ltensor3, ltensor4, ltensor5\n",
    "    - **float**: fscalar, fvector, fmatrix, frow, fcol, ftensor3, ftensor4, ftensor5\n",
    "    - **double**: dscalar, dvector, dmatrix, drow, dcol, dtensor3, dtensor4, dtensor5\n",
    "    - **complex**: cscalar, cvector, cmatrix, crow, ccol, ctensor3, ctensor4, ctensor5\n",
    "    \n",
    "- You, the user—not the system architecture—have to choose whether your program will use 32- or 64-bit integers (i prefix vs. the l prefix) and floats (f prefix vs. the d prefix)."
   ]
  },
  {
   "cell_type": "markdown",
   "metadata": {},
   "source": [
    "** Step 2 **\n",
    "- The second step is to combine x and y into their sum z\n",
    "- **z is yet another Variable** which represents the addition of x and y\n",
    "- You can use the **pp function** to pretty-print out the computation associated to z"
   ]
  },
  {
   "cell_type": "code",
   "execution_count": 5,
   "metadata": {
    "collapsed": false
   },
   "outputs": [
    {
     "name": "stdout",
     "output_type": "stream",
     "text": [
      "(x + y)\n"
     ]
    }
   ],
   "source": [
    "z = x+y\n",
    "print pp(z)"
   ]
  },
  {
   "cell_type": "markdown",
   "metadata": {},
   "source": [
    "** Step 3 **\n",
    "- The last step is to create a function taking x and y as inputs and giving z as output\n",
    "- The first argument to **function()** is a list of Variables that will be provided as inputs to the function. The second argument is a single Variable or a list of Variables. For either case, the second argument is what we want to see as output when we apply the function. \n",
    "- f may then be used like a normal Python function."
   ]
  },
  {
   "cell_type": "code",
   "execution_count": 6,
   "metadata": {
    "collapsed": false
   },
   "outputs": [
    {
     "name": "stdout",
     "output_type": "stream",
     "text": [
      "5.0\n"
     ]
    }
   ],
   "source": [
    "f = function([x,y], z)\n",
    "print f(2,3)"
   ]
  },
  {
   "cell_type": "markdown",
   "metadata": {},
   "source": [
    "### Bonus Tip\n",
    "- As a shortcut, you can skip step 3, and just use a variable’s **eval method**. \n",
    "- The **eval()** method is not as flexible as function() but it can do everything we’ve covered in the tutorial so far. It has the added benefit of not requiring you to import function().\n",
    "- We pass **eval()** a **dictionary mapping symbolic theano variables to the values to substitute for them, and it returns the numerical value of the expression**.\n",
    "- eval() will be slow the first time you call it on a variable – it needs to call function() to compile the expression behind the scenes. Subsequent calls to eval() on that same variable will be fast, because the variable caches the compiled function."
   ]
  },
  {
   "cell_type": "code",
   "execution_count": 7,
   "metadata": {
    "collapsed": false
   },
   "outputs": [
    {
     "data": {
      "text/plain": [
       "array(5.0)"
      ]
     },
     "execution_count": 7,
     "metadata": {},
     "output_type": "execute_result"
    }
   ],
   "source": [
    "z.eval({x:2,y:3})"
   ]
  },
  {
   "cell_type": "markdown",
   "metadata": {},
   "source": [
    "<a name='2_add_matrices'></a>\n",
    "## 2) Adding two matrices"
   ]
  },
  {
   "cell_type": "markdown",
   "metadata": {},
   "source": [
    "- The only change from the previous example is that you need to instantiate x and y using the matrix Types\n",
    "- **dmatrix** is the Type for matrices of doubles.\n",
    "- We can use our new function on 2D arrays.\n",
    "- We can also use NumPy arrays directly as inputs.\n",
    "- It is possible to add scalars to matrices, vectors to matrices, scalars to vectors, etc. The behavior of these operations is defined by [broadcasting](http://deeplearning.net/software/theano/tutorial/broadcasting.html#tutbroadcasting)"
   ]
  },
  {
   "cell_type": "code",
   "execution_count": 10,
   "metadata": {
    "collapsed": false
   },
   "outputs": [
    {
     "name": "stdout",
     "output_type": "stream",
     "text": [
      "[[ 11.  22.]\n",
      " [ 33.  44.]]\n",
      "[[ 11.  22.]\n",
      " [ 33.  44.]]\n"
     ]
    }
   ],
   "source": [
    "x = T.dmatrix('x')\n",
    "y = T.dmatrix('y')\n",
    "z = x+y\n",
    "f = function([x,y], z)\n",
    "print f([[1, 2], [3, 4]], [[10, 20], [30, 40]])\n",
    "print f(np.array([[1, 2], [3, 4]]), np.array([[10, 20], [30, 40]]))"
   ]
  },
  {
   "cell_type": "markdown",
   "metadata": {},
   "source": [
    "<a name='3_logistic'></a>\n",
    "## 3) Logistic Function"
   ]
  },
  {
   "cell_type": "markdown",
   "metadata": {},
   "source": [
    "$$s(x) = \\frac{1}{1 + e^{-x}}$$\n",
    "\n",
    "- We want to apply the above ligistic function elementwise to each element of a matrix of doubles.\n",
    "- Logistic is performed elementwise is because all of its operations—division, addition, exponentiation, and division—are themselves elementwise operations"
   ]
  },
  {
   "cell_type": "code",
   "execution_count": 11,
   "metadata": {
    "collapsed": false
   },
   "outputs": [
    {
     "name": "stdout",
     "output_type": "stream",
     "text": [
      "[[ 0.5         0.73105858]\n",
      " [ 0.26894142  0.11920292]]\n"
     ]
    }
   ],
   "source": [
    "x = T.dmatrix('x')\n",
    "s = 1 / (1 + T.exp(-x))\n",
    "logistic = function([x], s)\n",
    "print logistic([[0, 1], [-1, -2]])"
   ]
  },
  {
   "cell_type": "markdown",
   "metadata": {},
   "source": [
    "<a name='4_more_than_one_output'></a>\n",
    "## 4) Computing More than one Thing at the Same Time"
   ]
  },
  {
   "cell_type": "markdown",
   "metadata": {},
   "source": [
    "- Theano supports functions with multiple outputs. \n",
    "- For example, we can compute the elementwise difference, absolute difference, and squared difference between two matrices a and b at the same time\n",
    "- **Note** - **dmatrices()** produces as many outputs as names that you provide. It is a shortcut for allocating symbolic variables."
   ]
  },
  {
   "cell_type": "code",
   "execution_count": 12,
   "metadata": {
    "collapsed": false
   },
   "outputs": [
    {
     "name": "stdout",
     "output_type": "stream",
     "text": [
      "[array([[ 1.,  0.],\n",
      "       [-1., -2.]]), array([[ 1.,  0.],\n",
      "       [ 1.,  2.]]), array([[ 1.,  0.],\n",
      "       [ 1.,  4.]])]\n"
     ]
    }
   ],
   "source": [
    "a, b = T.dmatrices('a','b')\n",
    "diff = a-b\n",
    "abs_diff = abs(diff)\n",
    "squared_diff = diff**2\n",
    "f = function([a,b], [diff, abs_diff, squared_diff])\n",
    "print f([[1, 1], [1, 1]], [[0, 1], [2, 3]])"
   ]
  },
  {
   "cell_type": "markdown",
   "metadata": {},
   "source": [
    "<a name='5_default_value'></a>\n",
    "## 5) Setting a Default Value for an Argument"
   ]
  },
  {
   "cell_type": "markdown",
   "metadata": {},
   "source": [
    "- Let’s say you want to define a function that adds two numbers, except that if you only provide one number, the other input is assumed to be one\n",
    "- We make use of the **In class**, which allows you to specify properties of your function’s parameters with greater detail. Here we give a default value of 1 for 'y' by creating a **In instance** with its value field set to 1."
   ]
  },
  {
   "cell_type": "code",
   "execution_count": 13,
   "metadata": {
    "collapsed": false
   },
   "outputs": [
    {
     "name": "stdout",
     "output_type": "stream",
     "text": [
      "34.0\n",
      "35.0\n"
     ]
    }
   ],
   "source": [
    "x, y = T.dscalars('x', 'y')\n",
    "z = x+y\n",
    "f = function([x, In(y, value=1)], z)\n",
    "print f(33)\n",
    "print f(33,2)"
   ]
  },
  {
   "cell_type": "markdown",
   "metadata": {},
   "source": [
    "- Inputs with default values must follow inputs without default values (like Python’s functions). \n",
    "- There can be multiple inputs with default values. \n",
    "- These parameters can be set positionally or by name, as in standard Python."
   ]
  },
  {
   "cell_type": "code",
   "execution_count": 14,
   "metadata": {
    "collapsed": false
   },
   "outputs": [
    {
     "name": "stdout",
     "output_type": "stream",
     "text": [
      "68.0\n",
      "70.0\n",
      "33.0\n",
      "34.0\n",
      "33.0\n"
     ]
    }
   ],
   "source": [
    "x,y,w = T.dscalars('x', 'y', 'w')\n",
    "z = (x+y)*w\n",
    "f = function([x, In(y, value=1), In(w, value=2, name='w_by_name')], z)\n",
    "print f(33)\n",
    "print f(33, 2)\n",
    "print f(33, 0, 1)\n",
    "print f(33, w_by_name=1)\n",
    "print f(33, w_by_name=1, y=0)"
   ]
  },
  {
   "cell_type": "markdown",
   "metadata": {},
   "source": [
    "** Note - ** **In** does not know the name of the local variables y and w that are passed as arguments. The symbolic variable objects have name attributes (set by dscalars in the example above) and these are the names of the keyword parameters in the functions that we build. This is the mechanism at work in In(y, value=1). In the case of In(w, value=2, name='w_by_name'). We override the symbolic variable’s name attribute with a name to be used for this function."
   ]
  },
  {
   "cell_type": "markdown",
   "metadata": {},
   "source": [
    "<a name='6_shared_var'></a>\n",
    "## 6) Using Shared Variables"
   ]
  },
  {
   "cell_type": "markdown",
   "metadata": {},
   "source": [
    "- For example, let’s say we want to make an accumulator: at the beginning, the state is initialized to zero. Then, on each function call, the state is incremented by the function’s argument. \n",
    "- Our accumulator function adds its argument to the internal state, and returns the old state value."
   ]
  },
  {
   "cell_type": "code",
   "execution_count": 17,
   "metadata": {
    "collapsed": false
   },
   "outputs": [],
   "source": [
    "state = shared(0)\n",
    "inc = T.iscalar('inc')\n",
    "accumulator = function([inc], state, updates=[(state, state+inc)])"
   ]
  },
  {
   "cell_type": "markdown",
   "metadata": {},
   "source": [
    "- **Shared variables :-**\n",
    "    - The **shared()** function constructs so-called shared variables. \n",
    "    - These are hybrid symbolic and non-symbolic variables **whose value may be shared between multiple functions**. \n",
    "    - Shared variables can be used in symbolic expressions just like the objects returned by dmatrices(...) but they also have an internal value that defines the value taken by this symbolic variable in all the functions that use it. It is called a shared variable because its value is shared between many functions. \n",
    "    - The value can be accessed and modified by the **.get_value() and .set_value()** methods\n",
    "    \n",
    "    \n",
    "- **Updates :-**\n",
    "    - **updates** parameter of function. \n",
    "    - updates must be supplied with a list of pairs of the form (shared-variable, new expression). It can also be a dictionary whose keys are shared-variables and values are the new expressions. \n",
    "    - It means “whenever this function runs, it will **replace the .value of each shared variable with the result of the corresponding expression**”. \n",
    "    - Above, our accumulator replaces the state‘s value with the sum of the state and the increment amount."
   ]
  },
  {
   "cell_type": "code",
   "execution_count": 18,
   "metadata": {
    "collapsed": false
   },
   "outputs": [
    {
     "name": "stdout",
     "output_type": "stream",
     "text": [
      "0\n",
      "0\n",
      "1\n",
      "1\n",
      "301\n"
     ]
    }
   ],
   "source": [
    "print state.get_value()\n",
    "print accumulator(1)\n",
    "print state.get_value()\n",
    "print accumulator(300)\n",
    "print state.get_value()"
   ]
  },
  {
   "cell_type": "markdown",
   "metadata": {},
   "source": [
    "- It is possible to reset the state. Just use the **.set_value() method**"
   ]
  },
  {
   "cell_type": "code",
   "execution_count": 19,
   "metadata": {
    "collapsed": false
   },
   "outputs": [
    {
     "name": "stdout",
     "output_type": "stream",
     "text": [
      "-1\n",
      "2\n"
     ]
    }
   ],
   "source": [
    "state.set_value(-1)\n",
    "print accumulator(3)\n",
    "print state.get_value()"
   ]
  },
  {
   "cell_type": "markdown",
   "metadata": {},
   "source": [
    "- As mentioned above, you can define more than one function to use the same shared variable. \n",
    "- These functions can all update the value."
   ]
  },
  {
   "cell_type": "code",
   "execution_count": 20,
   "metadata": {
    "collapsed": false
   },
   "outputs": [
    {
     "name": "stdout",
     "output_type": "stream",
     "text": [
      "2\n",
      "0\n"
     ]
    }
   ],
   "source": [
    "decrementor = function([inc], state, updates=[(state, state-inc)])\n",
    "print decrementor(2)\n",
    "print state.get_value()"
   ]
  },
  {
   "cell_type": "markdown",
   "metadata": {},
   "source": [
    "- **givens parameter** :-\n",
    "    - It may happen that you expressed some formula using a shared variable, but you do not want to use its value. In this case, you can use the **givens parameter** of function which replaces a particular node in a graph for the purpose of one particular function\n",
    "    - a good way of thinking about the givens is as a mechanism that allows you to replace any part of your formula with a different expression that evaluates to a **tensor of same shape and dtype**.\n",
    "    - [For more on 'givens' parameter](http://deeplearning.net/software/theano/tutorial/examples.html#using-shared-variables)"
   ]
  },
  {
   "cell_type": "code",
   "execution_count": 24,
   "metadata": {
    "collapsed": false
   },
   "outputs": [
    {
     "name": "stdout",
     "output_type": "stream",
     "text": [
      "7\n",
      "0\n"
     ]
    }
   ],
   "source": [
    "fn_of_state = state*2 + inc\n",
    "# The type of foo must match the shared variable we are replacing with the ``givens``\n",
    "foo = T.scalar(dtype=state.dtype)\n",
    "skip_shared = function([inc, foo], fn_of_state, givens=[(state, foo)])\n",
    "print skip_shared(1, 3)  # we're using 3 for the state, not state.value\n",
    "print(state.get_value())  # old state still there, but we didn't use it"
   ]
  },
  {
   "cell_type": "markdown",
   "metadata": {},
   "source": [
    "<a name='7_copying_functions'></a>\n",
    "## 7) Copying Functions"
   ]
  },
  {
   "cell_type": "markdown",
   "metadata": {},
   "source": [
    "- Theano functions can be copied, which can be useful for creating similar functions but with different shared variables or updates. \n",
    "- This is done using the **copy() method of function objects**. \n",
    "- The optimized graph of the original function is copied, so compilation only needs to be performed once."
   ]
  },
  {
   "cell_type": "code",
   "execution_count": 25,
   "metadata": {
    "collapsed": false
   },
   "outputs": [
    {
     "name": "stdout",
     "output_type": "stream",
     "text": [
      "0\n",
      "10\n"
     ]
    }
   ],
   "source": [
    "# Let’s start from the accumulator defined above\n",
    "state = shared(0)\n",
    "inc = T.iscalar('inc')\n",
    "accumulator = function([inc], state, updates=[(state, state+inc)])\n",
    "print accumulator(10)\n",
    "print state.get_value()"
   ]
  },
  {
   "cell_type": "markdown",
   "metadata": {},
   "source": [
    "- We can use **copy()** to create a similar accumulator but with its own internal state using the **swap parameter**, which is a **dictionary of shared variables to exchange**"
   ]
  },
  {
   "cell_type": "code",
   "execution_count": 27,
   "metadata": {
    "collapsed": false
   },
   "outputs": [
    {
     "name": "stdout",
     "output_type": "stream",
     "text": [
      "[array(0)]\n",
      "100\n",
      "10\n"
     ]
    }
   ],
   "source": [
    "new_state = shared(0)\n",
    "new_accumulator = accumulator.copy(swap={state:new_state})\n",
    "print new_accumulator(100)\n",
    "print new_state.get_value()\n",
    "\n",
    "# The state of the first function is left untouched\n",
    "print state.get_value()"
   ]
  },
  {
   "cell_type": "markdown",
   "metadata": {},
   "source": [
    "- We now create a copy with **updates removed** using the **delete_updates parameter**, which is set to **False by default**"
   ]
  },
  {
   "cell_type": "code",
   "execution_count": 28,
   "metadata": {
    "collapsed": false
   },
   "outputs": [
    {
     "name": "stdout",
     "output_type": "stream",
     "text": [
      "[array(10)]\n",
      "10\n"
     ]
    }
   ],
   "source": [
    "null_accumulator = accumulator.copy(delete_updates=True)\n",
    "print null_accumulator(100)\n",
    "print state.get_value()"
   ]
  },
  {
   "cell_type": "markdown",
   "metadata": {},
   "source": [
    "- As expected, the shared state is no longer updated"
   ]
  },
  {
   "cell_type": "markdown",
   "metadata": {},
   "source": [
    "<a name='8_random_numbers'></a>\n",
    "## 8) Using Random Numbers"
   ]
  },
  {
   "cell_type": "code",
   "execution_count": null,
   "metadata": {
    "collapsed": true
   },
   "outputs": [],
   "source": []
  }
 ],
 "metadata": {
  "kernelspec": {
   "display_name": "Python 2",
   "language": "python",
   "name": "python2"
  },
  "language_info": {
   "codemirror_mode": {
    "name": "ipython",
    "version": 2
   },
   "file_extension": ".py",
   "mimetype": "text/x-python",
   "name": "python",
   "nbconvert_exporter": "python",
   "pygments_lexer": "ipython2",
   "version": "2.7.6"
  }
 },
 "nbformat": 4,
 "nbformat_minor": 0
}
